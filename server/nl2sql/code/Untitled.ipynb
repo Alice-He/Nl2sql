{
 "cells": [
  {
   "cell_type": "code",
   "execution_count": null,
   "metadata": {},
   "outputs": [
    {
     "name": "stderr",
     "output_type": "stream",
     "text": [
      "e:\\Anaconda3\\envs\\nl2sql\\lib\\site-packages\\fuzzywuzzy\\fuzz.py:11: UserWarning: Using slow pure-python SequenceMatcher. Install python-Levenshtein to remove this warning\n",
      "  warnings.warn('Using slow pure-python SequenceMatcher. Install python-Levenshtein to remove this warning')\n"
     ]
    },
    {
     "name": "stdout",
     "output_type": "stream",
     "text": [
      "Loaded 4055 data from ../data/final/final_test.json\n",
      "Loaded 978 data from ../data/final/final_test.tables.json\n",
      " * Serving Flask app \"__main__\" (lazy loading)\n",
      " * Environment: production\n",
      "   WARNING: This is a development server. Do not use it in a production deployment.\n",
      "   Use a production WSGI server instead.\n",
      " * Debug mode: off\n"
     ]
    },
    {
     "name": "stderr",
     "output_type": "stream",
     "text": [
      " * Running on http://0.0.0.0:18888/ (Press CTRL+C to quit)\n",
      "127.0.0.1 - - [06/Jun/2020 09:34:33] \"POST /nl2sql HTTP/1.1\" 200 -\n",
      "127.0.0.1 - - [06/Jun/2020 09:37:59] \"POST /nl2sql HTTP/1.1\" 200 -\n",
      "127.0.0.1 - - [06/Jun/2020 09:38:43] \"POST /nl2sql HTTP/1.1\" 200 -\n"
     ]
    }
   ],
   "source": [
    "import torch\n",
    "from sqlnet.utils import *\n",
    "from sqlnet.model.sqlbert import SQLBert, BertTokenizer\n",
    "from sqlnet.lib.dbengine import DBEngine\n",
    "import argparse\n",
    "import time\n",
    "import os.path as osp\n",
    "from flask import Flask\n",
    "from flask import request, Flask, jsonify\n",
    "from flask_cors import *\n",
    " \n",
    "app = Flask(__name__)\n",
    "\n",
    "data_dir = '../data/final/'\n",
    "bert_model_dir = '../model/chinese-bert_chinese_wwm_pytorch/'\n",
    "restore_model_path = '../model/saved_bert_model'\n",
    "test_sql_path = osp.join(data_dir, 'final_test.json')\n",
    "test_table_path = osp.join(data_dir, 'final_test.tables.json')\n",
    "test_db_path = osp.join(data_dir,'final_test.db')\n",
    "_, test_table = load_data(test_sql_path, test_table_path)\n",
    "tokenizer = BertTokenizer.from_pretrained(bert_model_dir, do_lower_case=True)\n",
    "model = SQLBert.from_pretrained(bert_model_dir)\n",
    "model.load_state_dict(torch.load(restore_model_path, map_location=torch.device('cpu')))\n",
    "\n",
    "def solve(question, table_id):\n",
    "    return my_predict_test(model, [{\"table_id\": table_id, \"question\": question}], test_table,tokenizer=tokenizer)\n",
    "\n",
    "def results(rst,table_id):\n",
    "    engine = DBEngine(test_db_path)\n",
    "    return engine.my_execute(table_id, rst['sel'], rst['agg'], rst['conds'], rst['cond_conn_op'])\n",
    "    \n",
    "@app.route('/nl2sql', methods=['POST'])\n",
    "def post_Data():\n",
    "    table_id = request.form['table_id']\n",
    "    question = request.form['question']\n",
    "    if (question.strip()==\"\" or table_id.strip()==\"\"):\n",
    "        res = {\"msg\": \"table_id和查询语句不能为空！\"}\n",
    "    else:\n",
    "        try:\n",
    "            result = solve(question, table_id)\n",
    "            rst,query = results(result,table_id)\n",
    "            # print(result)\n",
    "            # print(rst)\n",
    "            # print(query)\n",
    "            res = {\"msg\": \"ok\", \"result\": rst, \"query\": query}\n",
    "        except:\n",
    "            res = {\"msg\": \"查询的表不存在！\"}\n",
    "    res = json.dumps(res, ensure_ascii=False)\n",
    "    # res = res.replace('\\\\', '')\n",
    "    # print(res)\n",
    "    return res\n",
    "\n",
    " \n",
    "if __name__ == '__main__':\n",
    "    app.config['JSON_AS_ASCII'] = False\n",
    "    CORS(app, supports_credentials=True)\n",
    "    app.run(host='0.0.0.0', port=18888)\n",
    "\n"
   ]
  },
  {
   "cell_type": "code",
   "execution_count": 3,
   "metadata": {},
   "outputs": [
    {
     "ename": "NameError",
     "evalue": "name 'solve' is not defined",
     "output_type": "error",
     "traceback": [
      "\u001b[1;31m---------------------------------------------------------------------------\u001b[0m",
      "\u001b[1;31mNameError\u001b[0m                                 Traceback (most recent call last)",
      "\u001b[1;32m<ipython-input-3-656933eb6d1b>\u001b[0m in \u001b[0;36m<module>\u001b[1;34m\u001b[0m\n\u001b[1;32m----> 1\u001b[1;33m \u001b[0mprint\u001b[0m\u001b[1;33m(\u001b[0m\u001b[0msolve\u001b[0m\u001b[1;33m(\u001b[0m\u001b[1;34m\"这种BT-1574型号的发声拉是什么公司的产品震玩具\"\u001b[0m\u001b[1;33m,\u001b[0m \u001b[1;34m\"a88bac7a3b0611e9a29bf40f24344a08\"\u001b[0m\u001b[1;33m)\u001b[0m\u001b[1;33m)\u001b[0m\u001b[1;33m\u001b[0m\u001b[1;33m\u001b[0m\u001b[0m\n\u001b[0m",
      "\u001b[1;31mNameError\u001b[0m: name 'solve' is not defined"
     ]
    }
   ],
   "source": [
    "print(solve(\"这种BT-1574型号的发声拉是什么公司的产品震玩具\", \"a88bac7a3b0611e9a29bf40f24344a08\"))"
   ]
  },
  {
   "cell_type": "code",
   "execution_count": null,
   "metadata": {},
   "outputs": [],
   "source": [
    "print(torch.__version__)"
   ]
  },
  {
   "cell_type": "code",
   "execution_count": null,
   "metadata": {},
   "outputs": [],
   "source": [
    "model.load_state_dict(torch.load(restore_model_path, map_location=torch.device('cpu')))"
   ]
  },
  {
   "cell_type": "code",
   "execution_count": null,
   "metadata": {},
   "outputs": [],
   "source": []
  },
  {
   "cell_type": "code",
   "execution_count": null,
   "metadata": {},
   "outputs": [],
   "source": []
  }
 ],
 "metadata": {
  "kernelspec": {
   "display_name": "nl2sql",
   "language": "python",
   "name": "nl2sql"
  },
  "language_info": {
   "codemirror_mode": {
    "name": "ipython",
    "version": 3
   },
   "file_extension": ".py",
   "mimetype": "text/x-python",
   "name": "python",
   "nbconvert_exporter": "python",
   "pygments_lexer": "ipython3",
   "version": "3.6.10"
  }
 },
 "nbformat": 4,
 "nbformat_minor": 2
}
